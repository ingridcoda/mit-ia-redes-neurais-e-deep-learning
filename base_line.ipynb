{
 "cells": [
  {
   "cell_type": "code",
   "execution_count": 1,
   "id": "7f076102",
   "metadata": {},
   "outputs": [
    {
     "name": "stdout",
     "output_type": "stream",
     "text": [
      "Linhas a remover: 14\n"
     ]
    }
   ],
   "source": [
    "import pandas as pd\n",
    "\n",
    "df = pd.read_excel(\n",
    "    \"Pedidos.xlsx\",\n",
    "    parse_dates=[\"DataFechamento\"]  # Converte diretamente essa coluna para datetime\n",
    ")\n",
    "df.head()\n",
    "\n",
    "# pega todas as colunas numéricas\n",
    "num_cols = df.select_dtypes(include=\"number\").columns\n",
    "\n",
    "# remove qtde_vendida da lista\n",
    "num_cols = num_cols.drop(\"qtde_vendida\")\n",
    "\n",
    "# arredonda apenas as numéricas restantes\n",
    "df[num_cols] = df[num_cols].round(2)\n",
    "\n",
    "df.head()\n",
    "\n",
    "\n",
    "# Ver linhas com valores negativos\n",
    "linhas_removidas = (df[\"qtde_vendida\"] < 0).sum()\n",
    "print(\"Linhas a remover:\", linhas_removidas)\n",
    "\n",
    "df = df[df[\"qtde_vendida\"] >= 0].copy()  \n",
    "\n",
    "df = df[df[\"DataFechamento\"].dt.year < 2025].copy()\n",
    "\n",
    "df = df.drop_duplicates()\n",
    "\n",
    "df[\"valor_calculado\"] = df[\"qtde_vendida\"] * df[\"valor_unitario\"] + df[\"acrescimos\"] - df[\"descontos\"]\n",
    "\n",
    "# Diferença entre o calculado e o informado\n",
    "df[\"diferenca\"] = (df[\"valor_total\"] - df[\"valor_calculado\"]).round(2)\n",
    "\n",
    "# Conferir registros inconsistentes\n",
    "inconsistentes = df[df[\"diferenca\"] != 0]\n",
    "\n",
    "from scipy import stats\n",
    "\n",
    "# Z-score da coluna 'valor_pedido'\n",
    "z_scores = stats.zscore(df['valor_pedido'])\n",
    "df_sem_outliers = df[(z_scores > -3) & (z_scores < 3)]\n"
   ]
  },
  {
   "cell_type": "code",
   "execution_count": null,
   "id": "abac693a",
   "metadata": {},
   "outputs": [
    {
     "name": "stderr",
     "output_type": "stream",
     "text": [
      "Treinando modelo: 100%|██████████| 1/1 [15:09<00:00, 909.80s/it]\n"
     ]
    },
    {
     "ename": "AttributeError",
     "evalue": "'float' object has no attribute 'round'",
     "output_type": "error",
     "traceback": [
      "\u001b[0;31m---------------------------------------------------------------------------\u001b[0m",
      "\u001b[0;31mAttributeError\u001b[0m                            Traceback (most recent call last)",
      "Cell \u001b[0;32mIn[5], line 77\u001b[0m\n\u001b[1;32m     72\u001b[0m \u001b[38;5;66;03m# ------------------------------\u001b[39;00m\n\u001b[1;32m     73\u001b[0m \u001b[38;5;66;03m# 🔹 Avaliação\u001b[39;00m\n\u001b[1;32m     74\u001b[0m \u001b[38;5;66;03m# ------------------------------\u001b[39;00m\n\u001b[1;32m     75\u001b[0m y_pred \u001b[38;5;241m=\u001b[39m model\u001b[38;5;241m.\u001b[39mpredict(X_test)\n\u001b[0;32m---> 77\u001b[0m \u001b[38;5;28mprint\u001b[39m(\u001b[38;5;124m\"\u001b[39m\u001b[38;5;124mMAE:\u001b[39m\u001b[38;5;124m\"\u001b[39m, \u001b[43mmean_absolute_error\u001b[49m\u001b[43m(\u001b[49m\u001b[43my_test\u001b[49m\u001b[43m,\u001b[49m\u001b[43m \u001b[49m\u001b[43my_pred\u001b[49m\u001b[43m)\u001b[49m\u001b[38;5;241;43m.\u001b[39;49m\u001b[43mround\u001b[49m(\u001b[38;5;241m2\u001b[39m))\n\u001b[1;32m     78\u001b[0m \u001b[38;5;28mprint\u001b[39m(\u001b[38;5;124m\"\u001b[39m\u001b[38;5;124mRMSE:\u001b[39m\u001b[38;5;124m\"\u001b[39m, mean_squared_error(y_test, y_pred, squared\u001b[38;5;241m=\u001b[39m\u001b[38;5;28;01mFalse\u001b[39;00m)\u001b[38;5;241m.\u001b[39mround(\u001b[38;5;241m2\u001b[39m))\n\u001b[1;32m     79\u001b[0m \u001b[38;5;28mprint\u001b[39m(\u001b[38;5;124m\"\u001b[39m\u001b[38;5;124mR²:\u001b[39m\u001b[38;5;124m\"\u001b[39m, r2_score(y_test, y_pred)\u001b[38;5;241m.\u001b[39mround(\u001b[38;5;241m2\u001b[39m))\n",
      "\u001b[0;31mAttributeError\u001b[0m: 'float' object has no attribute 'round'"
     ]
    }
   ],
   "source": [
    "# ------------------------------\n",
    "# 📌 Preparação dos dados para o modelo (com lags + tqdm)\n",
    "# ------------------------------\n",
    "from sklearn.model_selection import train_test_split\n",
    "from sklearn.preprocessing import OneHotEncoder, StandardScaler\n",
    "from sklearn.compose import ColumnTransformer\n",
    "from sklearn.pipeline import Pipeline\n",
    "from sklearn.ensemble import RandomForestRegressor\n",
    "from sklearn.metrics import mean_absolute_error, mean_squared_error, r2_score\n",
    "from tqdm import tqdm\n",
    "import numpy as np\n",
    "\n",
    "# 🔹 Defina sua variável alvo (target)\n",
    "target = \"valor_total\"\n",
    "X = df_sem_outliers.drop(columns=[target])\n",
    "y = df_sem_outliers[target]\n",
    "\n",
    "# ------------------------------\n",
    "# 🔹 Engenharia de atributos\n",
    "# ------------------------------\n",
    "# Datas → extrair dia, mês, ano e dia da semana\n",
    "X[\"ano\"] = df_sem_outliers[\"DataFechamento\"].dt.year\n",
    "X[\"mes\"] = df_sem_outliers[\"DataFechamento\"].dt.month\n",
    "X[\"dia_semana\"] = df_sem_outliers[\"DataFechamento\"].dt.dayofweek\n",
    "\n",
    "# Ticket médio\n",
    "X[\"ticket_medio\"] = (\n",
    "    df_sem_outliers[\"valor_total\"] / df_sem_outliers[\"qtde_vendida\"]\n",
    ").replace([np.inf, -np.inf], 0).fillna(0)\n",
    "\n",
    "# 🔹 Criar lags para qtde_vendida\n",
    "for lag in range(1, 4):  # lag_1, lag_2, lag_3\n",
    "    X[f\"lag_{lag}\"] = df_sem_outliers[\"qtde_vendida\"].shift(lag)\n",
    "\n",
    "# Remover linhas iniciais com NaN causadas pelos lags\n",
    "mask = X[[f\"lag_{lag}\" for lag in range(1, 4)]].notnull().all(axis=1)\n",
    "X = X[mask]\n",
    "y = y[mask]\n",
    "\n",
    "# ------------------------------\n",
    "# 🔹 Divisão treino/teste\n",
    "# ------------------------------\n",
    "X_train, X_test, y_train, y_test = train_test_split(\n",
    "    X, y, test_size=0.2, random_state=42, shuffle=False  # sem embaralhar por ser série temporal\n",
    ")\n",
    "\n",
    "# ------------------------------\n",
    "# 🔹 Pré-processamento\n",
    "# ------------------------------\n",
    "num_cols = X_train.select_dtypes(include=[\"int64\", \"float64\"]).columns\n",
    "cat_cols = X_train.select_dtypes(include=[\"object\", \"category\"]).columns\n",
    "\n",
    "preprocessor = ColumnTransformer(\n",
    "    transformers=[\n",
    "        (\"num\", StandardScaler(), num_cols),\n",
    "        (\"cat\", OneHotEncoder(handle_unknown=\"ignore\"), cat_cols),\n",
    "    ]\n",
    ")\n",
    "\n",
    "# ------------------------------\n",
    "# 🔹 Pipeline do modelo com tqdm\n",
    "# ------------------------------\n",
    "# ProgressBar só no fit (RandomForest não tem callback), usamos tqdm \"manual\"\n",
    "with tqdm(total=1, desc=\"Treinando modelo\") as pbar:\n",
    "    model = Pipeline(steps=[\n",
    "        (\"preprocessor\", preprocessor),\n",
    "        (\"regressor\", RandomForestRegressor(n_estimators=200, random_state=42, n_jobs=-1))\n",
    "    ])\n",
    "    model.fit(X_train, y_train)\n",
    "    pbar.update(1)\n",
    "\n",
    "# ------------------------------\n",
    "# 🔹 Avaliação\n",
    "# ------------------------------\n",
    "y_pred = model.predict(X_test)\n",
    "\n",
    "\n"
   ]
  },
  {
   "cell_type": "code",
   "execution_count": 9,
   "id": "cd296dd0",
   "metadata": {},
   "outputs": [
    {
     "name": "stdout",
     "output_type": "stream",
     "text": [
      "MAE: 0.02\n",
      "RMSE: 0.2\n",
      "R²: 1.0\n"
     ]
    }
   ],
   "source": [
    "print(\"MAE:\", round(mean_absolute_error(y_test, y_pred), 2))\n",
    "print(\"RMSE:\", round(np.sqrt(mean_squared_error(y_test, y_pred)), 2))  # raiz do MSE\n",
    "print(\"R²:\", round(r2_score(y_test, y_pred), 2))\n"
   ]
  }
 ],
 "metadata": {
  "kernelspec": {
   "display_name": "tf",
   "language": "python",
   "name": "python3"
  },
  "language_info": {
   "codemirror_mode": {
    "name": "ipython",
    "version": 3
   },
   "file_extension": ".py",
   "mimetype": "text/x-python",
   "name": "python",
   "nbconvert_exporter": "python",
   "pygments_lexer": "ipython3",
   "version": "3.10.18"
  }
 },
 "nbformat": 4,
 "nbformat_minor": 5
}
